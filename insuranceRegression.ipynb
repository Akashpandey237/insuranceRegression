{
 "cells": [
  {
   "cell_type": "markdown",
   "id": "249a79d2",
   "metadata": {},
   "source": [
    "Author : AKASH PANDEY\n",
    "Domain : DATA SCIENCE"
   ]
  },
  {
   "cell_type": "code",
   "execution_count": null,
   "id": "a2f18ea2",
   "metadata": {},
   "outputs": [],
   "source": [
    "import numpy as np\n",
    "import pandas as pd\n",
    "import matplotlib.pyplot as plt"
   ]
  },
  {
   "cell_type": "code",
   "execution_count": 3,
   "id": "42eceb38",
   "metadata": {},
   "outputs": [
    {
     "data": {
      "text/html": [
       "<div>\n",
       "<style scoped>\n",
       "    .dataframe tbody tr th:only-of-type {\n",
       "        vertical-align: middle;\n",
       "    }\n",
       "\n",
       "    .dataframe tbody tr th {\n",
       "        vertical-align: top;\n",
       "    }\n",
       "\n",
       "    .dataframe thead th {\n",
       "        text-align: right;\n",
       "    }\n",
       "</style>\n",
       "<table border=\"1\" class=\"dataframe\">\n",
       "  <thead>\n",
       "    <tr style=\"text-align: right;\">\n",
       "      <th></th>\n",
       "      <th>age</th>\n",
       "      <th>sex</th>\n",
       "      <th>bmi</th>\n",
       "      <th>children</th>\n",
       "      <th>smoker</th>\n",
       "      <th>region</th>\n",
       "      <th>charges</th>\n",
       "    </tr>\n",
       "  </thead>\n",
       "  <tbody>\n",
       "    <tr>\n",
       "      <th>0</th>\n",
       "      <td>19</td>\n",
       "      <td>female</td>\n",
       "      <td>27.900</td>\n",
       "      <td>0</td>\n",
       "      <td>yes</td>\n",
       "      <td>southwest</td>\n",
       "      <td>16884.92400</td>\n",
       "    </tr>\n",
       "    <tr>\n",
       "      <th>1</th>\n",
       "      <td>18</td>\n",
       "      <td>male</td>\n",
       "      <td>33.770</td>\n",
       "      <td>1</td>\n",
       "      <td>no</td>\n",
       "      <td>southeast</td>\n",
       "      <td>1725.55230</td>\n",
       "    </tr>\n",
       "    <tr>\n",
       "      <th>2</th>\n",
       "      <td>28</td>\n",
       "      <td>male</td>\n",
       "      <td>33.000</td>\n",
       "      <td>3</td>\n",
       "      <td>no</td>\n",
       "      <td>southeast</td>\n",
       "      <td>4449.46200</td>\n",
       "    </tr>\n",
       "    <tr>\n",
       "      <th>3</th>\n",
       "      <td>33</td>\n",
       "      <td>male</td>\n",
       "      <td>22.705</td>\n",
       "      <td>0</td>\n",
       "      <td>no</td>\n",
       "      <td>northwest</td>\n",
       "      <td>21984.47061</td>\n",
       "    </tr>\n",
       "    <tr>\n",
       "      <th>4</th>\n",
       "      <td>32</td>\n",
       "      <td>male</td>\n",
       "      <td>28.880</td>\n",
       "      <td>0</td>\n",
       "      <td>no</td>\n",
       "      <td>northwest</td>\n",
       "      <td>3866.85520</td>\n",
       "    </tr>\n",
       "    <tr>\n",
       "      <th>...</th>\n",
       "      <td>...</td>\n",
       "      <td>...</td>\n",
       "      <td>...</td>\n",
       "      <td>...</td>\n",
       "      <td>...</td>\n",
       "      <td>...</td>\n",
       "      <td>...</td>\n",
       "    </tr>\n",
       "    <tr>\n",
       "      <th>1333</th>\n",
       "      <td>50</td>\n",
       "      <td>male</td>\n",
       "      <td>30.970</td>\n",
       "      <td>3</td>\n",
       "      <td>no</td>\n",
       "      <td>northwest</td>\n",
       "      <td>10600.54830</td>\n",
       "    </tr>\n",
       "    <tr>\n",
       "      <th>1334</th>\n",
       "      <td>18</td>\n",
       "      <td>female</td>\n",
       "      <td>31.920</td>\n",
       "      <td>0</td>\n",
       "      <td>no</td>\n",
       "      <td>northeast</td>\n",
       "      <td>2205.98080</td>\n",
       "    </tr>\n",
       "    <tr>\n",
       "      <th>1335</th>\n",
       "      <td>18</td>\n",
       "      <td>female</td>\n",
       "      <td>36.850</td>\n",
       "      <td>0</td>\n",
       "      <td>no</td>\n",
       "      <td>southeast</td>\n",
       "      <td>1629.83350</td>\n",
       "    </tr>\n",
       "    <tr>\n",
       "      <th>1336</th>\n",
       "      <td>21</td>\n",
       "      <td>female</td>\n",
       "      <td>25.800</td>\n",
       "      <td>0</td>\n",
       "      <td>no</td>\n",
       "      <td>southwest</td>\n",
       "      <td>2007.94500</td>\n",
       "    </tr>\n",
       "    <tr>\n",
       "      <th>1337</th>\n",
       "      <td>61</td>\n",
       "      <td>female</td>\n",
       "      <td>29.070</td>\n",
       "      <td>0</td>\n",
       "      <td>yes</td>\n",
       "      <td>northwest</td>\n",
       "      <td>29141.36030</td>\n",
       "    </tr>\n",
       "  </tbody>\n",
       "</table>\n",
       "<p>1338 rows × 7 columns</p>\n",
       "</div>"
      ],
      "text/plain": [
       "      age     sex     bmi  children smoker     region      charges\n",
       "0      19  female  27.900         0    yes  southwest  16884.92400\n",
       "1      18    male  33.770         1     no  southeast   1725.55230\n",
       "2      28    male  33.000         3     no  southeast   4449.46200\n",
       "3      33    male  22.705         0     no  northwest  21984.47061\n",
       "4      32    male  28.880         0     no  northwest   3866.85520\n",
       "...   ...     ...     ...       ...    ...        ...          ...\n",
       "1333   50    male  30.970         3     no  northwest  10600.54830\n",
       "1334   18  female  31.920         0     no  northeast   2205.98080\n",
       "1335   18  female  36.850         0     no  southeast   1629.83350\n",
       "1336   21  female  25.800         0     no  southwest   2007.94500\n",
       "1337   61  female  29.070         0    yes  northwest  29141.36030\n",
       "\n",
       "[1338 rows x 7 columns]"
      ]
     },
     "execution_count": 3,
     "metadata": {},
     "output_type": "execute_result"
    }
   ],
   "source": [
    "df=pd.read_csv(\"insurance.csv\")\n",
    "df"
   ]
  },
  {
   "cell_type": "code",
   "execution_count": 4,
   "id": "3a286c2d",
   "metadata": {
    "scrolled": true
   },
   "outputs": [
    {
     "name": "stdout",
     "output_type": "stream",
     "text": [
      "<class 'pandas.core.frame.DataFrame'>\n",
      "RangeIndex: 1338 entries, 0 to 1337\n",
      "Data columns (total 7 columns):\n",
      " #   Column    Non-Null Count  Dtype  \n",
      "---  ------    --------------  -----  \n",
      " 0   age       1338 non-null   int64  \n",
      " 1   sex       1338 non-null   object \n",
      " 2   bmi       1338 non-null   float64\n",
      " 3   children  1338 non-null   int64  \n",
      " 4   smoker    1338 non-null   object \n",
      " 5   region    1338 non-null   object \n",
      " 6   charges   1338 non-null   float64\n",
      "dtypes: float64(2), int64(2), object(3)\n",
      "memory usage: 73.3+ KB\n"
     ]
    }
   ],
   "source": [
    "df.info()"
   ]
  },
  {
   "cell_type": "code",
   "execution_count": 5,
   "id": "b33e24f0",
   "metadata": {},
   "outputs": [],
   "source": [
    "#here we have seen we have 3 object(categorical columns data ) then there we need to change into int type"
   ]
  },
  {
   "cell_type": "code",
   "execution_count": 10,
   "id": "35dbe47a",
   "metadata": {},
   "outputs": [
    {
     "data": {
      "text/plain": [
       "0       0\n",
       "1       1\n",
       "2       1\n",
       "3       1\n",
       "4       1\n",
       "       ..\n",
       "1333    1\n",
       "1334    0\n",
       "1335    0\n",
       "1336    0\n",
       "1337    0\n",
       "Name: sex, Length: 1338, dtype: int8"
      ]
     },
     "execution_count": 10,
     "metadata": {},
     "output_type": "execute_result"
    }
   ],
   "source": [
    "df['sex']=df['sex'].astype('category')\n",
    "df['sex']=df['sex'].cat.codes\n",
    "df['sex']"
   ]
  },
  {
   "cell_type": "code",
   "execution_count": 8,
   "id": "1ee88896",
   "metadata": {},
   "outputs": [],
   "source": [
    "#The .cat.codes attribute is used to convert categorical data into numerical codes within a pandas DataFrame. Let's break down how this works"
   ]
  },
  {
   "cell_type": "code",
   "execution_count": 11,
   "id": "f97fb8b9",
   "metadata": {},
   "outputs": [
    {
     "data": {
      "text/plain": [
       "0       1\n",
       "1       0\n",
       "2       0\n",
       "3       0\n",
       "4       0\n",
       "       ..\n",
       "1333    0\n",
       "1334    0\n",
       "1335    0\n",
       "1336    0\n",
       "1337    1\n",
       "Name: smoker, Length: 1338, dtype: int8"
      ]
     },
     "execution_count": 11,
     "metadata": {},
     "output_type": "execute_result"
    }
   ],
   "source": [
    "df['smoker']=df['smoker'].astype('category')\n",
    "df['smoker']=df['smoker'].cat.codes\n",
    "df['smoker']"
   ]
  },
  {
   "cell_type": "code",
   "execution_count": 13,
   "id": "256a3bf0",
   "metadata": {},
   "outputs": [
    {
     "data": {
      "text/plain": [
       "0       3\n",
       "1       2\n",
       "2       2\n",
       "3       1\n",
       "4       1\n",
       "       ..\n",
       "1333    1\n",
       "1334    0\n",
       "1335    2\n",
       "1336    3\n",
       "1337    1\n",
       "Name: region, Length: 1338, dtype: int8"
      ]
     },
     "execution_count": 13,
     "metadata": {},
     "output_type": "execute_result"
    }
   ],
   "source": [
    "df['region']=df['region'].astype('category')\n",
    "df['region']=df['region'].cat.codes\n",
    "df['region']"
   ]
  },
  {
   "cell_type": "code",
   "execution_count": 14,
   "id": "e8d09f58",
   "metadata": {},
   "outputs": [
    {
     "data": {
      "text/html": [
       "<div>\n",
       "<style scoped>\n",
       "    .dataframe tbody tr th:only-of-type {\n",
       "        vertical-align: middle;\n",
       "    }\n",
       "\n",
       "    .dataframe tbody tr th {\n",
       "        vertical-align: top;\n",
       "    }\n",
       "\n",
       "    .dataframe thead th {\n",
       "        text-align: right;\n",
       "    }\n",
       "</style>\n",
       "<table border=\"1\" class=\"dataframe\">\n",
       "  <thead>\n",
       "    <tr style=\"text-align: right;\">\n",
       "      <th></th>\n",
       "      <th>age</th>\n",
       "      <th>sex</th>\n",
       "      <th>bmi</th>\n",
       "      <th>children</th>\n",
       "      <th>smoker</th>\n",
       "      <th>region</th>\n",
       "      <th>charges</th>\n",
       "    </tr>\n",
       "  </thead>\n",
       "  <tbody>\n",
       "    <tr>\n",
       "      <th>0</th>\n",
       "      <td>19</td>\n",
       "      <td>0</td>\n",
       "      <td>27.900</td>\n",
       "      <td>0</td>\n",
       "      <td>1</td>\n",
       "      <td>3</td>\n",
       "      <td>16884.92400</td>\n",
       "    </tr>\n",
       "    <tr>\n",
       "      <th>1</th>\n",
       "      <td>18</td>\n",
       "      <td>1</td>\n",
       "      <td>33.770</td>\n",
       "      <td>1</td>\n",
       "      <td>0</td>\n",
       "      <td>2</td>\n",
       "      <td>1725.55230</td>\n",
       "    </tr>\n",
       "    <tr>\n",
       "      <th>2</th>\n",
       "      <td>28</td>\n",
       "      <td>1</td>\n",
       "      <td>33.000</td>\n",
       "      <td>3</td>\n",
       "      <td>0</td>\n",
       "      <td>2</td>\n",
       "      <td>4449.46200</td>\n",
       "    </tr>\n",
       "    <tr>\n",
       "      <th>3</th>\n",
       "      <td>33</td>\n",
       "      <td>1</td>\n",
       "      <td>22.705</td>\n",
       "      <td>0</td>\n",
       "      <td>0</td>\n",
       "      <td>1</td>\n",
       "      <td>21984.47061</td>\n",
       "    </tr>\n",
       "    <tr>\n",
       "      <th>4</th>\n",
       "      <td>32</td>\n",
       "      <td>1</td>\n",
       "      <td>28.880</td>\n",
       "      <td>0</td>\n",
       "      <td>0</td>\n",
       "      <td>1</td>\n",
       "      <td>3866.85520</td>\n",
       "    </tr>\n",
       "    <tr>\n",
       "      <th>...</th>\n",
       "      <td>...</td>\n",
       "      <td>...</td>\n",
       "      <td>...</td>\n",
       "      <td>...</td>\n",
       "      <td>...</td>\n",
       "      <td>...</td>\n",
       "      <td>...</td>\n",
       "    </tr>\n",
       "    <tr>\n",
       "      <th>1333</th>\n",
       "      <td>50</td>\n",
       "      <td>1</td>\n",
       "      <td>30.970</td>\n",
       "      <td>3</td>\n",
       "      <td>0</td>\n",
       "      <td>1</td>\n",
       "      <td>10600.54830</td>\n",
       "    </tr>\n",
       "    <tr>\n",
       "      <th>1334</th>\n",
       "      <td>18</td>\n",
       "      <td>0</td>\n",
       "      <td>31.920</td>\n",
       "      <td>0</td>\n",
       "      <td>0</td>\n",
       "      <td>0</td>\n",
       "      <td>2205.98080</td>\n",
       "    </tr>\n",
       "    <tr>\n",
       "      <th>1335</th>\n",
       "      <td>18</td>\n",
       "      <td>0</td>\n",
       "      <td>36.850</td>\n",
       "      <td>0</td>\n",
       "      <td>0</td>\n",
       "      <td>2</td>\n",
       "      <td>1629.83350</td>\n",
       "    </tr>\n",
       "    <tr>\n",
       "      <th>1336</th>\n",
       "      <td>21</td>\n",
       "      <td>0</td>\n",
       "      <td>25.800</td>\n",
       "      <td>0</td>\n",
       "      <td>0</td>\n",
       "      <td>3</td>\n",
       "      <td>2007.94500</td>\n",
       "    </tr>\n",
       "    <tr>\n",
       "      <th>1337</th>\n",
       "      <td>61</td>\n",
       "      <td>0</td>\n",
       "      <td>29.070</td>\n",
       "      <td>0</td>\n",
       "      <td>1</td>\n",
       "      <td>1</td>\n",
       "      <td>29141.36030</td>\n",
       "    </tr>\n",
       "  </tbody>\n",
       "</table>\n",
       "<p>1338 rows × 7 columns</p>\n",
       "</div>"
      ],
      "text/plain": [
       "      age  sex     bmi  children  smoker  region      charges\n",
       "0      19    0  27.900         0       1       3  16884.92400\n",
       "1      18    1  33.770         1       0       2   1725.55230\n",
       "2      28    1  33.000         3       0       2   4449.46200\n",
       "3      33    1  22.705         0       0       1  21984.47061\n",
       "4      32    1  28.880         0       0       1   3866.85520\n",
       "...   ...  ...     ...       ...     ...     ...          ...\n",
       "1333   50    1  30.970         3       0       1  10600.54830\n",
       "1334   18    0  31.920         0       0       0   2205.98080\n",
       "1335   18    0  36.850         0       0       2   1629.83350\n",
       "1336   21    0  25.800         0       0       3   2007.94500\n",
       "1337   61    0  29.070         0       1       1  29141.36030\n",
       "\n",
       "[1338 rows x 7 columns]"
      ]
     },
     "execution_count": 14,
     "metadata": {},
     "output_type": "execute_result"
    }
   ],
   "source": [
    "df"
   ]
  },
  {
   "cell_type": "code",
   "execution_count": 16,
   "id": "309cdf86",
   "metadata": {},
   "outputs": [
    {
     "data": {
      "text/plain": [
       "age         0\n",
       "sex         0\n",
       "bmi         0\n",
       "children    0\n",
       "smoker      0\n",
       "region      0\n",
       "charges     0\n",
       "dtype: int64"
      ]
     },
     "execution_count": 16,
     "metadata": {},
     "output_type": "execute_result"
    }
   ],
   "source": [
    "df.isnull().sum() # here i cheched null values"
   ]
  },
  {
   "cell_type": "code",
   "execution_count": 17,
   "id": "765f0b02",
   "metadata": {},
   "outputs": [
    {
     "data": {
      "text/plain": [
       "'formula of simple LinearRegression\\n   y=mx+c\\n   formula of muliple LinearRegression\\n   y=m1x1+m2x2+m3x3....mnxn+c'"
      ]
     },
     "execution_count": 17,
     "metadata": {},
     "output_type": "execute_result"
    }
   ],
   "source": [
    "'''formula of simple LinearRegression\n",
    "   y=mx+c\n",
    "   formula of muliple LinearRegression\n",
    "   y=m1x1+m2x2+m3x3....mnxn+c'''\n"
   ]
  },
  {
   "cell_type": "code",
   "execution_count": 18,
   "id": "9907369b",
   "metadata": {},
   "outputs": [
    {
     "data": {
      "text/html": [
       "<div>\n",
       "<style scoped>\n",
       "    .dataframe tbody tr th:only-of-type {\n",
       "        vertical-align: middle;\n",
       "    }\n",
       "\n",
       "    .dataframe tbody tr th {\n",
       "        vertical-align: top;\n",
       "    }\n",
       "\n",
       "    .dataframe thead th {\n",
       "        text-align: right;\n",
       "    }\n",
       "</style>\n",
       "<table border=\"1\" class=\"dataframe\">\n",
       "  <thead>\n",
       "    <tr style=\"text-align: right;\">\n",
       "      <th></th>\n",
       "      <th>age</th>\n",
       "      <th>sex</th>\n",
       "      <th>bmi</th>\n",
       "      <th>children</th>\n",
       "      <th>smoker</th>\n",
       "      <th>region</th>\n",
       "    </tr>\n",
       "  </thead>\n",
       "  <tbody>\n",
       "    <tr>\n",
       "      <th>0</th>\n",
       "      <td>19</td>\n",
       "      <td>0</td>\n",
       "      <td>27.900</td>\n",
       "      <td>0</td>\n",
       "      <td>1</td>\n",
       "      <td>3</td>\n",
       "    </tr>\n",
       "    <tr>\n",
       "      <th>1</th>\n",
       "      <td>18</td>\n",
       "      <td>1</td>\n",
       "      <td>33.770</td>\n",
       "      <td>1</td>\n",
       "      <td>0</td>\n",
       "      <td>2</td>\n",
       "    </tr>\n",
       "    <tr>\n",
       "      <th>2</th>\n",
       "      <td>28</td>\n",
       "      <td>1</td>\n",
       "      <td>33.000</td>\n",
       "      <td>3</td>\n",
       "      <td>0</td>\n",
       "      <td>2</td>\n",
       "    </tr>\n",
       "    <tr>\n",
       "      <th>3</th>\n",
       "      <td>33</td>\n",
       "      <td>1</td>\n",
       "      <td>22.705</td>\n",
       "      <td>0</td>\n",
       "      <td>0</td>\n",
       "      <td>1</td>\n",
       "    </tr>\n",
       "    <tr>\n",
       "      <th>4</th>\n",
       "      <td>32</td>\n",
       "      <td>1</td>\n",
       "      <td>28.880</td>\n",
       "      <td>0</td>\n",
       "      <td>0</td>\n",
       "      <td>1</td>\n",
       "    </tr>\n",
       "    <tr>\n",
       "      <th>...</th>\n",
       "      <td>...</td>\n",
       "      <td>...</td>\n",
       "      <td>...</td>\n",
       "      <td>...</td>\n",
       "      <td>...</td>\n",
       "      <td>...</td>\n",
       "    </tr>\n",
       "    <tr>\n",
       "      <th>1333</th>\n",
       "      <td>50</td>\n",
       "      <td>1</td>\n",
       "      <td>30.970</td>\n",
       "      <td>3</td>\n",
       "      <td>0</td>\n",
       "      <td>1</td>\n",
       "    </tr>\n",
       "    <tr>\n",
       "      <th>1334</th>\n",
       "      <td>18</td>\n",
       "      <td>0</td>\n",
       "      <td>31.920</td>\n",
       "      <td>0</td>\n",
       "      <td>0</td>\n",
       "      <td>0</td>\n",
       "    </tr>\n",
       "    <tr>\n",
       "      <th>1335</th>\n",
       "      <td>18</td>\n",
       "      <td>0</td>\n",
       "      <td>36.850</td>\n",
       "      <td>0</td>\n",
       "      <td>0</td>\n",
       "      <td>2</td>\n",
       "    </tr>\n",
       "    <tr>\n",
       "      <th>1336</th>\n",
       "      <td>21</td>\n",
       "      <td>0</td>\n",
       "      <td>25.800</td>\n",
       "      <td>0</td>\n",
       "      <td>0</td>\n",
       "      <td>3</td>\n",
       "    </tr>\n",
       "    <tr>\n",
       "      <th>1337</th>\n",
       "      <td>61</td>\n",
       "      <td>0</td>\n",
       "      <td>29.070</td>\n",
       "      <td>0</td>\n",
       "      <td>1</td>\n",
       "      <td>1</td>\n",
       "    </tr>\n",
       "  </tbody>\n",
       "</table>\n",
       "<p>1338 rows × 6 columns</p>\n",
       "</div>"
      ],
      "text/plain": [
       "      age  sex     bmi  children  smoker  region\n",
       "0      19    0  27.900         0       1       3\n",
       "1      18    1  33.770         1       0       2\n",
       "2      28    1  33.000         3       0       2\n",
       "3      33    1  22.705         0       0       1\n",
       "4      32    1  28.880         0       0       1\n",
       "...   ...  ...     ...       ...     ...     ...\n",
       "1333   50    1  30.970         3       0       1\n",
       "1334   18    0  31.920         0       0       0\n",
       "1335   18    0  36.850         0       0       2\n",
       "1336   21    0  25.800         0       0       3\n",
       "1337   61    0  29.070         0       1       1\n",
       "\n",
       "[1338 rows x 6 columns]"
      ]
     },
     "execution_count": 18,
     "metadata": {},
     "output_type": "execute_result"
    }
   ],
   "source": [
    "x=df.drop(columns='charges')\n",
    "x"
   ]
  },
  {
   "cell_type": "code",
   "execution_count": 19,
   "id": "97cb846a",
   "metadata": {},
   "outputs": [
    {
     "data": {
      "text/plain": [
       "0       16884.92400\n",
       "1        1725.55230\n",
       "2        4449.46200\n",
       "3       21984.47061\n",
       "4        3866.85520\n",
       "           ...     \n",
       "1333    10600.54830\n",
       "1334     2205.98080\n",
       "1335     1629.83350\n",
       "1336     2007.94500\n",
       "1337    29141.36030\n",
       "Name: charges, Length: 1338, dtype: float64"
      ]
     },
     "execution_count": 19,
     "metadata": {},
     "output_type": "execute_result"
    }
   ],
   "source": [
    "y=df['charges']\n",
    "y"
   ]
  },
  {
   "cell_type": "code",
   "execution_count": 26,
   "id": "54f79272",
   "metadata": {},
   "outputs": [],
   "source": [
    "from sklearn.model_selection import train_test_split\n",
    "x_train,x_test, y_train,y_test=train_test_split(x,y,test_size=0.4,random_state=0)"
   ]
  },
  {
   "cell_type": "code",
   "execution_count": 27,
   "id": "7473da88",
   "metadata": {},
   "outputs": [],
   "source": [
    "from sklearn.linear_model import LinearRegression"
   ]
  },
  {
   "cell_type": "code",
   "execution_count": 29,
   "id": "0e094fcd",
   "metadata": {},
   "outputs": [],
   "source": [
    "lr=LinearRegression()"
   ]
  },
  {
   "cell_type": "code",
   "execution_count": 33,
   "id": "cdf41a2d",
   "metadata": {},
   "outputs": [
    {
     "data": {
      "text/html": [
       "<style>#sk-container-id-1 {color: black;background-color: white;}#sk-container-id-1 pre{padding: 0;}#sk-container-id-1 div.sk-toggleable {background-color: white;}#sk-container-id-1 label.sk-toggleable__label {cursor: pointer;display: block;width: 100%;margin-bottom: 0;padding: 0.3em;box-sizing: border-box;text-align: center;}#sk-container-id-1 label.sk-toggleable__label-arrow:before {content: \"▸\";float: left;margin-right: 0.25em;color: #696969;}#sk-container-id-1 label.sk-toggleable__label-arrow:hover:before {color: black;}#sk-container-id-1 div.sk-estimator:hover label.sk-toggleable__label-arrow:before {color: black;}#sk-container-id-1 div.sk-toggleable__content {max-height: 0;max-width: 0;overflow: hidden;text-align: left;background-color: #f0f8ff;}#sk-container-id-1 div.sk-toggleable__content pre {margin: 0.2em;color: black;border-radius: 0.25em;background-color: #f0f8ff;}#sk-container-id-1 input.sk-toggleable__control:checked~div.sk-toggleable__content {max-height: 200px;max-width: 100%;overflow: auto;}#sk-container-id-1 input.sk-toggleable__control:checked~label.sk-toggleable__label-arrow:before {content: \"▾\";}#sk-container-id-1 div.sk-estimator input.sk-toggleable__control:checked~label.sk-toggleable__label {background-color: #d4ebff;}#sk-container-id-1 div.sk-label input.sk-toggleable__control:checked~label.sk-toggleable__label {background-color: #d4ebff;}#sk-container-id-1 input.sk-hidden--visually {border: 0;clip: rect(1px 1px 1px 1px);clip: rect(1px, 1px, 1px, 1px);height: 1px;margin: -1px;overflow: hidden;padding: 0;position: absolute;width: 1px;}#sk-container-id-1 div.sk-estimator {font-family: monospace;background-color: #f0f8ff;border: 1px dotted black;border-radius: 0.25em;box-sizing: border-box;margin-bottom: 0.5em;}#sk-container-id-1 div.sk-estimator:hover {background-color: #d4ebff;}#sk-container-id-1 div.sk-parallel-item::after {content: \"\";width: 100%;border-bottom: 1px solid gray;flex-grow: 1;}#sk-container-id-1 div.sk-label:hover label.sk-toggleable__label {background-color: #d4ebff;}#sk-container-id-1 div.sk-serial::before {content: \"\";position: absolute;border-left: 1px solid gray;box-sizing: border-box;top: 0;bottom: 0;left: 50%;z-index: 0;}#sk-container-id-1 div.sk-serial {display: flex;flex-direction: column;align-items: center;background-color: white;padding-right: 0.2em;padding-left: 0.2em;position: relative;}#sk-container-id-1 div.sk-item {position: relative;z-index: 1;}#sk-container-id-1 div.sk-parallel {display: flex;align-items: stretch;justify-content: center;background-color: white;position: relative;}#sk-container-id-1 div.sk-item::before, #sk-container-id-1 div.sk-parallel-item::before {content: \"\";position: absolute;border-left: 1px solid gray;box-sizing: border-box;top: 0;bottom: 0;left: 50%;z-index: -1;}#sk-container-id-1 div.sk-parallel-item {display: flex;flex-direction: column;z-index: 1;position: relative;background-color: white;}#sk-container-id-1 div.sk-parallel-item:first-child::after {align-self: flex-end;width: 50%;}#sk-container-id-1 div.sk-parallel-item:last-child::after {align-self: flex-start;width: 50%;}#sk-container-id-1 div.sk-parallel-item:only-child::after {width: 0;}#sk-container-id-1 div.sk-dashed-wrapped {border: 1px dashed gray;margin: 0 0.4em 0.5em 0.4em;box-sizing: border-box;padding-bottom: 0.4em;background-color: white;}#sk-container-id-1 div.sk-label label {font-family: monospace;font-weight: bold;display: inline-block;line-height: 1.2em;}#sk-container-id-1 div.sk-label-container {text-align: center;}#sk-container-id-1 div.sk-container {/* jupyter's `normalize.less` sets `[hidden] { display: none; }` but bootstrap.min.css set `[hidden] { display: none !important; }` so we also need the `!important` here to be able to override the default hidden behavior on the sphinx rendered scikit-learn.org. See: https://github.com/scikit-learn/scikit-learn/issues/21755 */display: inline-block !important;position: relative;}#sk-container-id-1 div.sk-text-repr-fallback {display: none;}</style><div id=\"sk-container-id-1\" class=\"sk-top-container\"><div class=\"sk-text-repr-fallback\"><pre>LinearRegression()</pre><b>In a Jupyter environment, please rerun this cell to show the HTML representation or trust the notebook. <br />On GitHub, the HTML representation is unable to render, please try loading this page with nbviewer.org.</b></div><div class=\"sk-container\" hidden><div class=\"sk-item\"><div class=\"sk-estimator sk-toggleable\"><input class=\"sk-toggleable__control sk-hidden--visually\" id=\"sk-estimator-id-1\" type=\"checkbox\" checked><label for=\"sk-estimator-id-1\" class=\"sk-toggleable__label sk-toggleable__label-arrow\">LinearRegression</label><div class=\"sk-toggleable__content\"><pre>LinearRegression()</pre></div></div></div></div></div>"
      ],
      "text/plain": [
       "LinearRegression()"
      ]
     },
     "execution_count": 33,
     "metadata": {},
     "output_type": "execute_result"
    }
   ],
   "source": [
    "lr.fit(x_train,y_train)"
   ]
  },
  {
   "cell_type": "code",
   "execution_count": 34,
   "id": "bd58e6cf",
   "metadata": {},
   "outputs": [
    {
     "data": {
      "text/plain": [
       "array([  259.38900302,    47.44927621,   333.50085345,   532.76705558,\n",
       "       22935.58903646,  -355.2995331 ])"
      ]
     },
     "execution_count": 34,
     "metadata": {},
     "output_type": "execute_result"
    }
   ],
   "source": [
    "lr.coef_"
   ]
  },
  {
   "cell_type": "code",
   "execution_count": 35,
   "id": "bb91a268",
   "metadata": {},
   "outputs": [
    {
     "data": {
      "text/plain": [
       "-12001.73821659377"
      ]
     },
     "execution_count": 35,
     "metadata": {},
     "output_type": "execute_result"
    }
   ],
   "source": [
    "lr.intercept_"
   ]
  },
  {
   "cell_type": "code",
   "execution_count": 52,
   "id": "a591813f",
   "metadata": {},
   "outputs": [
    {
     "data": {
      "text/plain": [
       "array([ 5.64084886e+03, -1.26912818e+03,  1.48944247e+04,  4.01944376e+03,\n",
       "        1.03774484e+04,  1.32002058e+04,  1.14434857e+04,  9.27176701e+03,\n",
       "        1.36864631e+04,  1.03146524e+03,  1.14695502e+04,  9.35808311e+03,\n",
       "        8.27570948e+03,  1.51432786e+04,  1.25982439e+04,  2.95741113e+04,\n",
       "        1.74291299e+04,  1.04759402e+04,  9.59268587e+03,  1.29577166e+04,\n",
       "        5.80271295e+03,  1.59749428e+04,  7.39752069e+03,  5.59862841e+03,\n",
       "        3.10352836e+04,  1.35716400e+04,  1.28935233e+04,  1.23733610e+04,\n",
       "        1.27708514e+04,  5.34916928e+03,  2.69343088e+03,  4.09904321e+03,\n",
       "        5.96800853e+03,  4.13580316e+02,  8.44159983e+03,  7.78880812e+03,\n",
       "        5.94713680e+03,  1.48536356e+04,  3.95200692e+03,  7.62962396e+03,\n",
       "        4.92567865e+03,  6.60744291e+02,  6.39952489e+03,  6.19487460e+03,\n",
       "        3.10880114e+03,  2.99016564e+04,  1.01988489e+04,  1.20996986e+04,\n",
       "        3.62288770e+04,  5.38340913e+03,  1.40366796e+04,  8.71142584e+02,\n",
       "        7.15038801e+03,  2.53076526e+04,  1.05300146e+04,  5.78958669e+03,\n",
       "        1.57970066e+04,  8.39711494e+03,  3.34797067e+04,  1.30615459e+04,\n",
       "        9.14716902e+03,  1.15726362e+04,  2.90747349e+04,  4.72307744e+03,\n",
       "        8.79944332e+03,  1.03355186e+04,  2.33854634e+03,  3.32145856e+04,\n",
       "        2.55186380e+04,  1.26070353e+04,  7.27063361e+03,  6.81354222e+03,\n",
       "        3.32388121e+04,  3.41785702e+04,  1.09045925e+04,  2.77823451e+04,\n",
       "        3.28221586e+04,  4.45719654e+03,  3.30192579e+04,  9.05894205e+03,\n",
       "        3.30549996e+04,  2.56929091e+04,  1.34021652e+04,  1.24678650e+04,\n",
       "        5.73632303e+03,  1.55693002e+04,  1.06693483e+04,  4.54823174e+03,\n",
       "        1.47262195e+04,  1.69263807e+04,  2.77400720e+03,  7.43356558e+03,\n",
       "        3.38202234e+04, -1.96261326e+03,  4.84869280e+03,  1.15393815e+04,\n",
       "        1.50523914e+04,  9.71105291e+03, -2.55331144e+02,  3.72133068e+04,\n",
       "        3.70588774e+03,  1.59590725e+04,  4.43206285e+03,  2.04248479e+03,\n",
       "        1.06389922e+04,  1.12260638e+04,  1.58855378e+04,  8.59893231e+03,\n",
       "        3.80527708e+04,  1.04410092e+04,  1.20605029e+04,  4.41818889e+03,\n",
       "        1.25377824e+04,  2.61390832e+04,  9.73261872e+03,  5.90478048e+03,\n",
       "        1.00192146e+04,  2.49908958e+04,  1.04825878e+04,  1.11927422e+04,\n",
       "        9.13218502e+03,  1.54561029e+04,  2.93933241e+03, -1.55160250e+03,\n",
       "        5.22835865e+02,  2.81888527e+04,  5.76647676e+03,  1.38791975e+04,\n",
       "        3.09231638e+03,  3.38717429e+04,  2.83293232e+03,  9.07914012e+03,\n",
       "        8.34412201e+03,  1.39303551e+04,  8.67756591e+03, -1.93612988e+03,\n",
       "        8.25537975e+03,  1.29040758e+04,  1.12887329e+04,  5.21775663e+03,\n",
       "        2.71549666e+04,  1.72764787e+04,  1.87412260e+04,  2.60571538e+03,\n",
       "        5.21100111e+03,  1.10317788e+04,  6.73027066e+03,  8.37668337e+03,\n",
       "        5.52157124e+03,  1.38575780e+04,  1.99283297e+03,  7.27875957e+03,\n",
       "        3.73424630e+03,  1.80070050e+03,  9.47001472e+03,  6.18335777e+03,\n",
       "        1.27822628e+03,  1.17226820e+04,  8.67957329e+03,  3.90317279e+04,\n",
       "        1.32995775e+04,  3.03921735e+04,  2.40461861e+04,  1.34932453e+04,\n",
       "        7.81007784e+03,  3.90957653e+03,  6.62760845e+03,  8.26454392e+03,\n",
       "        1.78506291e+04,  5.35153248e+03,  1.69009984e+03,  4.61142527e+03,\n",
       "        1.12578106e+04,  4.67829711e+03,  9.67634011e+03,  1.05677445e+04,\n",
       "        1.03280848e+04,  1.14075878e+04,  3.44913326e+04,  1.01586852e+04,\n",
       "        1.07230433e+04,  2.80458788e+04,  1.96398598e+03,  7.30208323e+02,\n",
       "        1.00189635e+04,  4.44036087e+03,  6.84725310e+03,  3.11969749e+03,\n",
       "        7.46342496e+03,  2.23260509e+04,  1.20045137e+04,  5.61972384e+03,\n",
       "        4.05222427e+03,  1.75068996e+04,  7.41572241e+03,  9.83854267e+02,\n",
       "        1.14141689e+03,  8.02833448e+03,  8.74213374e+03,  6.97982132e+03,\n",
       "        9.15901475e+03,  8.88313872e+03,  1.11568208e+04,  3.45313801e+04,\n",
       "        5.54166027e+03,  3.38063288e+03,  1.06499872e+04,  6.09980442e+03,\n",
       "        8.20357427e+03,  9.30210987e+03,  9.79346004e+03,  1.03565388e+04,\n",
       "        6.05222798e+03,  9.56215998e+03,  2.70462155e+04,  2.24820660e+04,\n",
       "        1.07262539e+04,  9.07888685e+03, -5.69442484e+02,  2.42007806e+04,\n",
       "        5.91242946e+03,  2.12375997e+03,  5.59276806e+03,  2.78102909e+04,\n",
       "        1.65005591e+04,  3.83147532e+04,  1.63570436e+04,  1.44419341e+04,\n",
       "        3.48097094e+03,  2.49483515e+04,  1.05881624e+04,  1.40486010e+04,\n",
       "        1.36677610e+04,  3.71413373e+03,  9.79494947e+03,  3.82428937e+04,\n",
       "        2.52492614e+04,  4.36400654e+03,  1.40867097e+04,  3.12859607e+04,\n",
       "        6.58757957e+03,  2.78474852e+04,  6.75840938e+03,  1.18313444e+04,\n",
       "        8.64103041e+03,  1.22834814e+04,  3.84831136e+03,  1.25941848e+04,\n",
       "        1.35316473e+04,  4.34219793e+03,  1.26713077e+04,  1.68605098e+04,\n",
       "        2.51581012e+04,  1.34480199e+04,  2.74327936e+04,  2.62234052e+04,\n",
       "        8.61352098e+03,  1.18888810e+04,  3.56465534e+04,  1.17132355e+04,\n",
       "        9.56796610e+03,  1.18638552e+04,  1.08601273e+04,  8.10593928e+03,\n",
       "        5.48102707e+03,  1.25355360e+03,  2.69957540e+04,  1.21301735e+04,\n",
       "        1.38726354e+04, -1.32172916e+03,  7.52333510e+03,  5.05429025e+03,\n",
       "        1.33433305e+04,  1.03689837e+04,  8.25208759e+03,  3.10301489e+04,\n",
       "        9.29829141e+03,  2.79885807e+03,  1.17091133e+04,  1.16666199e+04,\n",
       "        6.88227180e+03,  1.42015833e+04,  1.00684102e+04,  1.17677676e+04,\n",
       "        1.23439210e+04,  5.45562981e+03,  2.96737963e+03,  4.02633229e+04,\n",
       "        1.34543648e+04,  1.51926026e+04,  9.22108460e+03,  5.37129913e+03,\n",
       "        9.89571895e+03,  4.72307744e+03,  9.21056653e+03,  1.38121613e+04,\n",
       "        3.37649315e+03,  3.63847550e+03,  9.10702285e+03,  4.54288939e+03,\n",
       "        5.80833600e+03,  9.21703972e+03,  5.76793652e+03,  2.57431256e+04,\n",
       "        4.29390831e+03,  5.42542557e+03,  5.80662293e+03,  9.28932620e+03,\n",
       "        4.83157424e+03,  1.49130095e+04,  1.67625289e+04,  2.59859075e+04,\n",
       "        3.58896236e+04,  1.82428896e+03,  3.61451334e+04,  3.38300252e+03,\n",
       "        1.59071227e+04,  6.99266198e+03,  6.31830450e+03,  2.96000679e+04,\n",
       "        1.37181951e+04,  1.11885577e+04,  8.14957505e+03,  2.61746347e+03,\n",
       "        1.62783567e+04,  3.01984327e+04, -4.13985247e+02,  9.00831883e+03,\n",
       "        9.72301439e+03,  8.94924303e+03,  1.41668118e+04,  5.57977930e+03,\n",
       "        4.67476799e+03,  1.28094968e+04,  2.58653801e+04,  1.73830048e+04,\n",
       "        2.91275304e+04,  1.60877148e+04,  8.59638609e+03,  1.09072104e+04,\n",
       "        1.51259716e+04,  1.17765936e+04,  1.15633975e+04,  2.41010171e+04,\n",
       "        3.26295142e+04,  9.54876944e+03,  1.15160846e+04,  2.67114105e+04,\n",
       "        3.52216412e+03,  6.38360900e+03,  5.79689857e+03,  1.16309582e+04,\n",
       "        3.82173111e+04,  3.29306390e+04,  2.64496223e+04,  1.44123850e+04,\n",
       "        3.55301509e+04,  3.94808961e+04,  2.71064204e+03,  2.60393482e+04,\n",
       "        5.76617640e+03,  3.64229060e+04,  5.55413369e+03,  1.15669133e+04,\n",
       "        2.34891972e+03,  3.47150303e+04,  1.55440454e+04,  7.60074244e+03,\n",
       "        1.27023067e+04,  5.10560463e+03,  1.12368697e+04,  2.89365437e+04,\n",
       "        8.16317371e+03,  2.47681859e+04,  1.15062463e+04, -5.88861590e+02,\n",
       "        3.26237426e+04,  1.20386362e+04,  6.82309345e+03,  1.08258180e+04,\n",
       "        2.78086097e+04,  1.08790153e+04, -1.28478585e+03,  3.91866178e+03,\n",
       "        8.50202682e+03,  3.82238550e+03,  2.78586391e+03,  1.19654551e+04,\n",
       "        8.11633015e+03,  3.30085891e+04,  1.34635120e+04,  3.38783295e+03,\n",
       "        5.98334991e+03,  3.11469608e+04,  1.09143343e+04,  1.67418395e+03,\n",
       "        3.64640114e+04,  9.71627746e+03,  3.68874139e+04,  6.86640032e+03,\n",
       "        1.44988172e+04,  7.29104656e+03,  2.81868909e+04,  4.45144023e+03,\n",
       "        1.72774379e+04,  1.19634367e+04,  8.99696757e+03,  3.59179115e+04,\n",
       "        1.37074313e+04,  1.85100684e+04,  1.61330925e+04,  3.79246575e+04,\n",
       "        1.22188889e+04,  3.06984489e+04,  8.95367057e+03,  4.08796602e+03,\n",
       "        9.24652969e+03,  1.24661132e+04,  1.22865456e+04,  9.24480296e+03,\n",
       "        1.52970744e+04,  1.59256880e+02,  6.84903186e+03,  1.13705344e+04,\n",
       "        4.26171920e+03,  1.36095726e+04,  3.22123920e+04,  1.07343848e+04,\n",
       "        2.42344174e+04,  2.61997389e+04,  1.44067077e+04,  1.44062834e+04,\n",
       "        1.45318620e+04,  6.68294749e+03,  3.09491593e+04,  1.53507524e+04,\n",
       "        2.98381367e+04,  6.07446302e+03,  1.79285358e+03,  2.93086493e+04,\n",
       "        8.08997020e+03,  3.17728620e+04,  3.31945410e+04,  3.25171895e+04,\n",
       "        2.97672354e+03,  9.06672209e+03,  1.01971589e+04,  9.91189237e+03,\n",
       "        3.11280757e+04,  2.96281238e+04,  7.52703352e+03,  3.03404524e+04,\n",
       "        1.14283263e+04,  8.35978574e+03,  4.67506503e+03,  2.96221039e+04,\n",
       "        1.15609735e+04,  1.57352509e+04,  1.66483771e+04,  7.39881268e+03,\n",
       "        3.72448463e+03,  5.62236427e+03,  3.12202220e+04,  5.86005822e+03,\n",
       "        6.42128903e+03,  1.14861572e+04,  1.47220227e+04,  7.03131992e+03,\n",
       "        1.05154237e+04,  1.59011670e+04,  1.13101309e+04,  3.90466168e+03,\n",
       "        5.12333434e+03,  2.80989002e+04,  3.47955775e+04,  1.03284407e+04,\n",
       "        9.90358333e+03,  7.48256839e+03,  1.06355991e+04,  7.32539158e+03,\n",
       "        1.74361227e+04,  2.94056698e+04,  1.47872456e+04,  1.23346796e+04,\n",
       "        1.30990886e+03,  1.50934509e+04,  2.21948744e+03,  9.14910729e+03,\n",
       "        1.35931459e+04,  1.46238883e+04,  7.47564287e+03,  1.39302450e+04,\n",
       "        6.23667082e+03,  1.14827641e+04,  9.97897683e+03,  5.01061056e+03,\n",
       "        9.46432756e+03,  1.99176851e+03,  1.45991109e+04,  3.38377377e+03,\n",
       "        2.23633415e+03,  7.29490340e+03,  1.59335753e+04,  8.70468233e+03,\n",
       "        1.16945460e+04,  3.09876737e+04,  6.13237223e+03,  1.83957106e+03,\n",
       "        1.61609343e+04,  7.13677942e+03,  1.22129874e+04,  1.15254456e+04,\n",
       "        1.12208399e+04,  8.77414142e+03,  1.21317829e+04,  1.69059885e+04,\n",
       "        7.76603802e+03,  1.17102393e+04,  3.61456179e+04,  5.23408796e+03,\n",
       "        7.44582024e+03,  4.01150695e+04,  1.01798639e+04,  4.79437611e+03,\n",
       "        1.21813273e+04,  3.92371630e+03,  3.88722609e+04,  3.29539320e+04,\n",
       "        1.47566956e+04, -1.18832882e+03,  1.36322561e+04,  3.03440121e+04,\n",
       "        2.86250674e+04,  1.11363596e+04,  5.43049114e+03,  2.18576405e+03,\n",
       "        1.46974071e+04,  3.39764885e+03,  7.17276993e+03,  1.86494554e+03,\n",
       "        2.90035278e+04,  3.22286186e+04,  3.45288821e+04,  1.27075219e+04,\n",
       "        1.94121427e+04,  7.76366343e+03,  3.87647990e+04,  9.43038542e+03,\n",
       "        3.68086524e+03,  1.26674794e+04,  8.22241623e+03,  3.64055201e+04,\n",
       "        1.14023666e+04,  8.09554386e+03,  4.27611114e+03,  2.75764245e+03,\n",
       "        6.15445272e+03,  1.30418001e+04,  2.87520959e+04,  1.16626408e+04,\n",
       "        6.27797411e+03,  2.71292447e+04,  3.00024138e+04,  1.12890109e+04,\n",
       "        2.36232281e+03,  1.28347823e+04,  3.43263044e+04,  3.36433112e+04,\n",
       "        2.89793299e+04,  2.65116442e+03,  1.22914281e+04,  7.89572401e+03,\n",
       "        2.14216669e+03,  3.71778502e+03,  8.59938728e+03,  9.66027086e+03,\n",
       "        9.47460830e+03,  6.93948985e+03,  3.28058262e+03,  9.88919633e+03,\n",
       "        1.48365417e+04,  9.56382637e+03,  5.33418377e+03,  1.63172372e+04,\n",
       "        8.03099312e+03, -2.20293057e+03,  1.23598406e+04,  1.34733279e+04,\n",
       "        3.28932221e+04,  2.64829723e+04,  1.17883143e+04,  8.39258221e+03,\n",
       "        1.37842253e+04,  2.87510242e+04,  1.77157465e+04,  6.38319244e+03,\n",
       "        1.24987133e+04,  9.21306452e+03,  2.90917081e+04,  8.30810908e+03,\n",
       "        3.14690079e+04,  1.35878035e+04,  4.76914702e+03,  1.75793933e+04,\n",
       "        2.79034031e+04, -1.25023562e+02,  3.27485686e+02,  3.22975277e+03,\n",
       "        6.46407951e+03,  2.68342533e+04,  4.48605603e+03,  1.02081901e+04,\n",
       "        7.85802154e+03,  1.20972510e+04,  2.62442100e+04,  1.58902076e+04,\n",
       "        3.50274620e+04,  3.16102513e+04,  7.04622267e+03,  3.38253115e+04,\n",
       "        1.46074347e+04,  7.37481366e+03,  7.69970017e+03,  1.02617021e+04,\n",
       "        9.41450520e+03,  1.24816151e+04,  9.19867748e+03,  1.21692678e+04,\n",
       "        7.12351010e+03,  3.84324579e+03,  3.03767630e+04,  3.36308511e+03,\n",
       "        8.61039218e+03,  6.94107343e+03,  3.25567369e+03,  1.27288618e+04,\n",
       "        5.23467387e+02,  6.35358383e+02,  1.25866843e+04,  1.64296743e+04,\n",
       "        8.26780832e+03,  1.00377413e+04,  3.54296605e+04,  3.50823005e+04,\n",
       "        1.34345587e+04,  6.23230247e+03,  1.91239481e+03,  1.27894077e+04,\n",
       "        3.26469221e+04,  1.35834906e+04,  3.49500854e+04,  1.42239855e+04,\n",
       "        1.00712015e+04,  1.25481832e+04,  4.64495197e+03,  5.25014246e+03,\n",
       "        7.16964263e+03,  1.64860767e+04,  1.22714306e+04,  9.09867706e+03,\n",
       "        3.37714652e+04,  2.79957729e+03,  2.40817662e+04,  3.79729592e+04,\n",
       "        1.25917039e+04,  1.08471260e+04,  1.70270761e+04,  3.43294104e+04,\n",
       "        3.45873571e+04,  8.38865626e+03,  1.01262017e+04,  1.23648948e+04,\n",
       "        3.38340678e+04,  1.49076782e+04,  4.06271393e+03,  6.51553100e+03,\n",
       "        6.71768331e+03,  1.64402236e+04,  3.50731074e+04,  6.52028134e+03,\n",
       "        1.23873611e+04,  3.57556111e+04,  9.45777756e+03,  4.23581038e+03,\n",
       "        9.85477296e+03,  4.73330272e+03,  6.79703996e+03,  1.30927439e+04,\n",
       "        4.15509157e+03,  1.27042784e+04,  1.57904677e+04,  3.03424970e+04,\n",
       "        1.13968055e+04,  3.33824350e+04,  1.45399929e+04,  8.42007909e+03,\n",
       "        3.21604263e+04,  2.98860964e+04,  1.21416531e+04,  3.09311912e+04,\n",
       "        1.04663837e+04,  3.24555897e+03,  1.04992244e+04,  1.18857389e+04,\n",
       "        1.10198344e+04,  3.02893073e+04,  1.08460916e+04,  5.36753881e+03,\n",
       "        1.01846449e+04,  1.94735650e+03,  3.63674184e+04,  7.10372254e+03,\n",
       "        3.67627553e+03,  2.95234894e+03,  7.29373253e+03,  2.86972278e+04,\n",
       "        2.63725213e+04,  1.38397930e+04,  1.11282707e+03,  2.92609900e+04,\n",
       "       -1.48847958e+03,  3.72429938e+03,  2.55884583e+04,  1.17574029e+04,\n",
       "        9.79100864e+01,  6.31660845e+03,  8.86673067e+02,  1.48741526e+04,\n",
       "        1.45053327e+04,  1.07966239e+04,  3.57331676e+03,  2.92594656e+04,\n",
       "        3.21367091e+04,  7.05894217e+03,  1.81929548e+04,  9.46050911e+03,\n",
       "        1.31838646e+04,  1.01925001e+04,  1.03330364e+04,  2.94708177e+03,\n",
       "        1.10695333e+04,  9.30223482e+03,  5.98572450e+03,  2.65705442e+04,\n",
       "        1.05345041e+04,  5.85965424e+03,  3.20682921e+04,  1.32875651e+04,\n",
       "        1.92753063e+03,  1.50864881e+04,  1.07041942e+04,  7.31655353e+03,\n",
       "        2.17390734e+03,  5.57392004e+03,  2.58691762e+04,  3.96817611e+02,\n",
       "       -1.29620112e+01,  3.14578682e+04,  8.27472238e+02,  1.38129747e+04,\n",
       "        6.49149740e+03,  9.69075949e+03,  3.65266717e+04,  6.94818545e+02,\n",
       "        4.00415334e+04,  1.17724785e+04,  1.52176031e+04,  3.33610727e+04,\n",
       "        1.07267445e+04,  4.73222724e+03,  3.37114581e+03,  3.09916862e+04,\n",
       "        1.45143252e+04,  3.94820097e+03,  2.68888933e+03,  1.41529367e+04,\n",
       "        2.62087501e+04,  3.07964002e+04,  7.17954857e+03,  6.37193536e+03,\n",
       "        1.31758434e+04,  1.31455081e+04,  1.29932177e+04,  1.16496555e+04,\n",
       "        3.66086946e+04,  1.00015172e+04,  1.28872972e+04,  4.98888428e+03,\n",
       "        1.05293706e+04,  5.23629050e+03,  7.52991247e+03,  2.73433821e+04,\n",
       "        5.01655819e+03,  1.32718603e+04,  1.47113440e+04,  7.42991989e+02,\n",
       "        2.28422481e+04,  3.73024136e+03,  1.12910099e+04,  6.07487352e+03,\n",
       "        4.46808791e+03,  2.19473313e+03])"
      ]
     },
     "execution_count": 52,
     "metadata": {},
     "output_type": "execute_result"
    }
   ],
   "source": [
    "y_pred_train=lr.predict(x_train)\n",
    "y_pred_train"
   ]
  },
  {
   "cell_type": "code",
   "execution_count": 53,
   "id": "8ad7e77a",
   "metadata": {},
   "outputs": [
    {
     "data": {
      "text/plain": [
       "Text(0, 0.5, 'predicted charges')"
      ]
     },
     "execution_count": 53,
     "metadata": {},
     "output_type": "execute_result"
    },
    {
     "data": {
      "image/png": "[encoded data removed]",
      "text/plain": [
       "<Figure size 640x480 with 1 Axes>"
      ]
     },
     "metadata": {},
     "output_type": "display_data"
    }
   ],
   "source": [
    "plt.scatter(y_train,y_pred_train)\n",
    "plt.xlabel(\"Actual charges\")\n",
    "plt.ylabel(\"predicted charges\")\n"
   ]
  },
  {
   "cell_type": "code",
   "execution_count": 55,
   "id": "8705a6c9",
   "metadata": {},
   "outputs": [
    {
     "data": {
      "text/plain": [
       "0.7218470836941686"
      ]
     },
     "execution_count": 55,
     "metadata": {},
     "output_type": "execute_result"
    }
   ],
   "source": [
    "from sklearn.metrics import r2_score\n",
    "r2_score(y_train,y_pred_train)"
   ]
  },
  {
   "cell_type": "code",
   "execution_count": 62,
   "id": "a5c8af91",
   "metadata": {},
   "outputs": [
    {
     "data": {
      "text/plain": [
       "array([ 1.10725334e+04,  9.80663298e+03,  3.76706689e+04,  1.63129035e+04,\n",
       "        6.89149181e+03,  3.99351790e+03,  1.44333880e+03,  1.46045311e+04,\n",
       "        9.17310631e+03,  7.68997580e+03,  4.75230527e+03,  1.04223389e+04,\n",
       "        8.59053289e+03,  3.95490556e+03,  2.71342780e+04,  1.12467981e+04,\n",
       "        1.13644925e+04,  6.15803492e+03,  8.37096272e+03,  2.64025538e+04,\n",
       "        3.31895275e+04,  1.45132794e+04,  1.17833288e+04,  3.16958636e+04,\n",
       "        4.30399388e+03,  9.33018058e+03,  1.02738362e+03,  1.02670522e+04,\n",
       "        3.91303378e+03,  1.05985593e+04,  9.18496302e+03,  3.98276444e+04,\n",
       "        1.55348626e+04,  1.36857895e+04,  2.40026244e+04,  5.09461071e+03,\n",
       "        1.30622678e+04,  2.98504917e+04,  3.29501360e+04,  3.22572166e+03,\n",
       "        3.95792534e+03,  4.17540693e+03,  2.99052288e+04,  3.90606209e+04,\n",
       "        2.71817603e+04,  5.05447332e+03,  1.11367428e+04,  7.89359167e+03,\n",
       "        3.63137516e+03,  1.06029534e+04,  5.59171611e+03,  3.48433331e+03,\n",
       "        3.22368646e+04,  3.81171978e+04,  1.63092457e+04,  7.12620589e+03,\n",
       "        5.89182630e+03,  9.46761922e+03,  9.66361618e+03,  1.18972595e+04,\n",
       "        1.47967801e+03,  3.86032588e+04,  1.55389666e+04,  1.17868743e+04,\n",
       "        1.45084193e+04,  1.38672531e+04,  2.52874929e+04,  3.17344552e+04,\n",
       "        1.10069957e+03,  1.04938787e+04,  1.21598164e+04,  1.19710661e+04,\n",
       "        2.42077549e+04,  1.59186764e+04,  1.12219954e+04,  1.27495505e+04,\n",
       "        6.34877563e+03,  1.00489034e+04,  2.95866253e+04,  3.83769787e+04,\n",
       "        1.21238680e+04,  3.67847183e+04,  4.10568200e+03,  9.25681043e+03,\n",
       "        3.43269841e+04,  2.85930328e+04,  8.34968050e+03,  4.79472962e+03,\n",
       "        1.19878042e+04,  2.94696517e+04,  1.02849002e+04,  1.12178831e+04,\n",
       "        8.26490963e+03,  9.30703072e+03,  8.42907926e+03,  7.35009385e+03,\n",
       "        3.54811690e+04,  3.24657775e+04,  7.68004593e+03,  1.49456810e+04,\n",
       "        4.15984685e+03,  8.84018155e+03,  6.62161708e+03,  3.10911395e+04,\n",
       "        3.25600490e+04,  1.80672866e+03,  8.87596549e+03,  6.50167901e+03,\n",
       "        1.47177805e+04,  3.64175697e+04,  1.04085329e+04,  1.09297239e+04,\n",
       "        1.02579061e+04,  2.62322842e+04,  3.96390322e+04,  8.71829309e+03,\n",
       "        3.73783523e+01,  8.82038531e+03,  1.51894124e+04,  9.80658630e+03,\n",
       "        3.50187550e+04,  7.24592856e+03,  1.67732433e+04,  9.90861926e+03,\n",
       "        8.04951984e+03,  2.97916722e+03,  3.23706108e+04,  3.09995418e+04,\n",
       "        3.87854257e+04,  5.43042205e+03,  9.70797340e+03,  3.79920492e+03,\n",
       "        7.91235308e+03,  8.75163935e+03,  3.08147652e+04,  2.90064539e+04,\n",
       "        2.93825002e+04,  9.17325707e+03,  3.21341355e+04,  3.31370900e+03,\n",
       "        3.47608955e+03,  1.11764378e+04,  1.36203243e+04,  1.29832077e+04,\n",
       "        5.46997125e+03,  1.58845846e+04,  1.53038321e+04,  2.40499321e+03,\n",
       "       -1.25886349e+02,  1.10764160e+04,  7.48071172e+03,  3.13245951e+04,\n",
       "        1.25793948e+04,  2.55191173e+03,  6.31575667e+03,  8.13765034e+03,\n",
       "        4.38498840e+03,  2.33180117e+03,  1.15887576e+04,  1.27432280e+04,\n",
       "        7.51464062e+03,  1.67339193e+04,  1.18239645e+04,  1.39814026e+04,\n",
       "        3.14214739e+03,  7.61774906e+03,  2.20333118e+04,  7.80773057e+03,\n",
       "        5.58570765e+03,  5.23666876e+03,  6.81666952e+03,  5.37199028e+03,\n",
       "        1.00956972e+04,  5.51978867e+03,  5.68669257e+03,  7.17654402e+03,\n",
       "        3.88290897e+03,  5.62634335e+03,  3.78318829e+04,  1.42742291e+03,\n",
       "        1.27787066e+04,  9.18294466e+03,  1.38179487e+04,  5.56425380e+03,\n",
       "        5.40756041e+03,  3.59662236e+04,  4.33425121e+03,  1.71672183e+03,\n",
       "        1.52377141e+04,  1.28944430e+04,  3.45644149e+04,  5.07565644e+03,\n",
       "        5.44080645e+03,  3.08654640e+04,  6.05610451e+03,  1.80947055e+03,\n",
       "        8.65696874e+03,  1.02591460e+04,  8.35917402e+03,  5.80069458e+03,\n",
       "        1.33101126e+04,  3.81706061e+04,  1.39053820e+04,  2.81924339e+04,\n",
       "        6.86020881e+03,  3.51634382e+04,  3.92848907e+03,  1.21957193e+04,\n",
       "        9.39115254e+03,  6.34798575e+03,  1.14459283e+04,  1.46623621e+04,\n",
       "        5.28023046e+03,  4.03723876e+03,  7.75235322e+03,  1.00906850e+03,\n",
       "        8.16996485e+03,  4.47290733e+03,  1.34712438e+04,  4.42741876e+03,\n",
       "        1.00229229e+04,  7.47496643e+03,  9.02120999e+03,  2.30858439e+03,\n",
       "        1.30158036e+04,  1.69326576e+04,  1.53885980e+04,  1.03811469e+04,\n",
       "        5.83373330e+03,  2.40414904e+03,  2.05582977e+03,  1.36586434e+04,\n",
       "        1.43308439e+04,  5.25358382e+03,  4.00817305e+03,  9.41902318e+03,\n",
       "        1.01062843e+04,  2.75668402e+04,  7.78162165e+03,  1.07320583e+04,\n",
       "        5.99376885e+03,  2.92930497e+04,  1.10057281e+04,  7.51619032e+03,\n",
       "        1.04858180e+04,  1.23626823e+04,  3.14439371e+03,  1.08619159e+04,\n",
       "        1.43536963e+03,  7.19743767e+03,  2.80024431e+04,  3.80137210e+04,\n",
       "        6.14774056e+03,  8.35554580e+03,  2.39381623e+03,  3.81897735e+02,\n",
       "        1.04240634e+04,  4.24617122e+03,  5.20901011e+03,  2.56448766e+03,\n",
       "        7.39266066e+03,  3.25747930e+04,  3.77404481e+04,  1.49607231e+04,\n",
       "        8.33121945e+03,  1.62642986e+04,  3.26264313e+04,  9.84506003e+03,\n",
       "        3.30162419e+04,  3.48654843e+03,  3.01948083e+04,  8.08502471e+03,\n",
       "        1.43793512e+04,  4.12770930e+03,  3.18807022e+04,  8.43915832e+03,\n",
       "        1.15379809e+04,  9.77885815e+03,  4.21471879e+03,  1.25999449e+04,\n",
       "        1.17487426e+04,  8.45397070e+03,  1.34940165e+04,  2.71064204e+03,\n",
       "        1.07914669e+04,  5.44953860e+03,  1.15134184e+04,  3.10479116e+04,\n",
       "        1.01297878e+04,  1.20564484e+03,  5.59456789e+02,  3.94237756e+04,\n",
       "        9.90620132e+03,  7.11559629e+03,  1.41588426e+04,  1.36011842e+04,\n",
       "        2.63058261e+04,  6.97861375e+03,  6.76297065e+03,  1.20219935e+04,\n",
       "        2.82059369e+03,  3.97030773e+03,  2.44780462e+04,  2.54809010e+04,\n",
       "        1.33481264e+04,  3.27482851e+03,  5.05388736e+03,  9.42189223e+03,\n",
       "        1.26228426e+04,  2.28264814e+04,  3.04355609e+04,  1.00636846e+04,\n",
       "        2.32434205e+04,  2.74146183e+03,  1.16143227e+04,  7.56340229e+03,\n",
       "        8.30028568e+03,  3.33296747e+02,  7.88046540e+03,  3.49815257e+04,\n",
       "        6.30281347e+03,  6.33829207e+03,  8.01250232e+01,  1.08539183e+04,\n",
       "        6.65922913e+03,  9.92603933e+03,  3.82739443e+04,  2.71403894e+04,\n",
       "        1.17437910e+04,  3.51830048e+04,  1.52863808e+04,  6.98693913e+03,\n",
       "        1.11117488e+04,  6.91694236e+03,  3.60961503e+04,  5.98916812e+03,\n",
       "        1.11713498e+04,  6.45091568e+02,  2.35551227e+04,  1.80080030e+03,\n",
       "        3.38915802e+04,  1.13441695e+04,  1.80471029e+03,  3.16897264e+04,\n",
       "        6.61751081e+03,  5.00808965e+03,  3.76226276e+04,  2.04662946e+03,\n",
       "        9.92232271e+03,  2.77723746e+03,  1.29449368e+04,  8.12561217e+02,\n",
       "        1.12702632e+04,  7.24370519e+03,  3.61029639e+04,  6.98685479e+03,\n",
       "        3.00056052e+04,  2.90563283e+04,  7.15273029e+03,  1.12294608e+04,\n",
       "        1.90179884e+03,  1.97323683e+03,  3.83867853e+03,  1.29033270e+04,\n",
       "        3.67523055e+04,  9.66895586e+03,  9.82253218e+01,  1.15871333e+04,\n",
       "        5.00278180e+03,  9.64374657e+03,  5.76394643e+03,  7.27807983e+03,\n",
       "        4.33354301e+03,  2.78789157e+04,  4.57584414e+03, -1.10985249e+03,\n",
       "        3.27637378e+04,  1.30297471e+04,  3.53561149e+04,  9.79494452e+03,\n",
       "        7.80262554e+03, -1.02172932e+02,  2.49392954e+03,  1.15059744e+04,\n",
       "        5.62906775e+03,  3.31261108e+03,  1.22844133e+04,  7.72547036e+03,\n",
       "        6.84532355e+03,  5.59782753e+03,  2.98695332e+03,  3.13689380e+04,\n",
       "        3.56114976e+03,  8.43943518e+03,  4.68639235e+03,  1.32072897e+04,\n",
       "        1.47122304e+04,  7.14835326e+03,  2.60646107e+04,  1.43679198e+04,\n",
       "        1.75286687e+04,  1.13520027e+04,  2.07699042e+03,  7.98736230e+03,\n",
       "        1.90308911e+04,  7.86383592e+03,  6.47204867e+03,  1.79907967e+03,\n",
       "        2.63423851e+04,  1.51791217e+04,  1.04880897e+04,  1.63670683e+04,\n",
       "        1.16624441e+04,  1.14540581e+04,  3.87824416e+04,  5.89050139e+03,\n",
       "        1.24388471e+04,  3.12747753e+03,  1.57042743e+04,  4.63156638e+03,\n",
       "        5.06020760e+03,  6.06899563e+03,  1.53554332e+04,  9.00190099e+03,\n",
       "        8.94562238e+03,  3.37161372e+04,  6.60401236e+03,  2.64235353e+04,\n",
       "        2.69274208e+04,  1.55837146e+04,  8.82617006e+03,  3.40455010e+04,\n",
       "        1.01202164e+04,  3.84627055e+03,  1.57681624e+04,  2.92033345e+04,\n",
       "        2.89101119e+04,  2.75963137e+04,  1.00922953e+04,  3.28201177e+04,\n",
       "        4.00066158e+03,  2.48949618e+04,  5.62846426e+03,  2.74343570e+04,\n",
       "        7.20183341e+03,  1.53517868e+04,  2.41191653e+03,  3.52555949e+04,\n",
       "        1.55026598e+04,  3.11946017e+03,  2.00391232e+03,  1.02202952e+04,\n",
       "        1.00746018e+04,  1.12598005e+04,  1.68717400e+04,  4.20651453e+03,\n",
       "        1.67679438e+03,  4.14296902e+03,  5.60280156e+03,  6.24396511e+03,\n",
       "        2.61938561e+04,  1.43065894e+04,  1.19740377e+04,  7.69378395e+03,\n",
       "        1.42040681e+04,  2.79483946e+03,  1.34458184e+04,  1.19752935e+04,\n",
       "        2.04471964e+03,  1.01468657e+03,  3.65140415e+04,  7.21576771e+03,\n",
       "        9.06786554e+03,  2.16922610e+03,  1.14745933e+04,  7.70788809e+03,\n",
       "        1.16484501e+04,  2.51384470e+04,  2.64244031e+04,  8.42624475e+03,\n",
       "        7.93535331e+03,  3.14121006e+02,  4.91358231e+03,  7.90640269e+03,\n",
       "        3.28006571e+03,  8.23954733e+03,  1.49892891e+03,  4.39614901e+03,\n",
       "        3.28696869e+04,  5.87075939e+03,  1.17471014e+04,  8.93969636e+03,\n",
       "        3.09884860e+04,  1.17777890e+04,  1.15774891e+04,  4.64327841e+03,\n",
       "        7.08374208e+03,  5.94070460e+03,  5.07178751e+03,  9.79411516e+03,\n",
       "        3.09321752e+04,  3.25811893e+03,  3.73392545e+04,  1.10586309e+04,\n",
       "        8.83880684e+03,  3.09472056e+03,  1.21216272e+04,  3.01666104e+04,\n",
       "        2.80076782e+03,  5.86909572e+03,  1.14002567e+04,  9.97557880e+03,\n",
       "        6.10067821e+03,  1.31970166e+04,  1.23222073e+04,  2.74945899e+04,\n",
       "        1.14852944e+04,  1.11411308e+04,  1.43601979e+04,  1.23486708e+04,\n",
       "        2.76694307e+04,  1.19133695e+04,  1.29942016e+04,  1.53266235e+04,\n",
       "        4.31831288e+03,  2.78733075e+04,  9.10065593e+03,  2.82534206e+04,\n",
       "        1.13302884e+04,  6.57809145e+03,  1.32778358e+04,  1.47746807e+04,\n",
       "        9.72743203e+03,  2.54816996e+03,  5.72433916e+03,  2.82059369e+03])"
      ]
     },
     "execution_count": 62,
     "metadata": {},
     "output_type": "execute_result"
    }
   ],
   "source": [
    "y_pred_test=lr.predict(x_test)\n",
    "y_pred_test"
   ]
  },
  {
   "cell_type": "code",
   "execution_count": 63,
   "id": "5bd73acd",
   "metadata": {},
   "outputs": [
    {
     "data": {
      "text/plain": [
       "Text(0, 0.5, 'predected charges')"
      ]
     },
     "execution_count": 63,
     "metadata": {},
     "output_type": "execute_result"
    },
    {
     "data": {
      "image/png": "[encoded data removed]",
      "text/plain": [
       "<Figure size 640x480 with 1 Axes>"
      ]
     },
     "metadata": {},
     "output_type": "display_data"
    }
   ],
   "source": [
    "plt.scatter(y_test,y_pred_test)\n",
    "plt.xlabel(\"Acutal charges\")\n",
    "plt.ylabel(\"predected charges\")\n"
   ]
  },
  {
   "cell_type": "code",
   "execution_count": 65,
   "id": "0e331206",
   "metadata": {},
   "outputs": [
    {
     "data": {
      "text/plain": [
       "0.7877230592349684"
      ]
     },
     "execution_count": 65,
     "metadata": {},
     "output_type": "execute_result"
    }
   ],
   "source": [
    "from sklearn.metrics import r2_score\n",
    "r2_score(y_test,y_pred_test)"
   ]
  },
  {
   "cell_type": "code",
   "execution_count": null,
   "id": "12a1296c",
   "metadata": {},
   "outputs": [],
   "source": []
  }
 ],
 "metadata": {
  "kernelspec": {
   "display_name": "Python 3 (ipykernel)",
   "language": "python",
   "name": "python3"
  },
  "language_info": {
   "codemirror_mode": {
    "name": "ipython",
    "version": 3
   },
   "file_extension": ".py",
   "mimetype": "text/x-python",
   "name": "python",
   "nbconvert_exporter": "python",
   "pygments_lexer": "ipython3",
   "version": "3.10.9"
  }
 },
 "nbformat": 4,
 "nbformat_minor": 5
}
